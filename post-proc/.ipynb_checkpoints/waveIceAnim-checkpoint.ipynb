{
 "cells": [
  {
   "cell_type": "markdown",
   "id": "545fcc39",
   "metadata": {},
   "source": [
    "# Import librairies"
   ]
  },
  {
   "cell_type": "code",
   "execution_count": 47,
   "id": "4166af24",
   "metadata": {},
   "outputs": [],
   "source": [
    "import pandas as pd\n",
    "import numpy as np\n",
    "import matplotlib\n",
    "import matplotlib.pyplot as plt\n",
    "import matplotlib.colors as mcolors\n",
    "import matplotlib.dates as mdates\n",
    "from datetime import datetime, timedelta\n",
    "import matplotlib.animation as animation\n",
    "from PIL import Image\n",
    "import glob\n",
    "import xarray as xr"
   ]
  },
  {
   "cell_type": "markdown",
   "id": "8ea2af47",
   "metadata": {},
   "source": [
    "# Define function"
   ]
  },
  {
   "cell_type": "code",
   "execution_count": 48,
   "id": "d136b86e",
   "metadata": {},
   "outputs": [],
   "source": [
    "def cleanGrdFiles_ww3(nparray_var2d, nparray_rst, def_v, convFac_ww3):\n",
    "    listBadRow=[]\n",
    "    listBadCol=[]\n",
    "    for col_i in range(len(nparray_var2d[0])):\n",
    "        col=nparray_var2d[:,col_i]\n",
    "        if (np.count_nonzero(col == def_v) == len(col)):\n",
    "            listBadCol.append(col_i)\n",
    "    for row_i in range(len(nparray_var2d[:,0])):\n",
    "        row=nparray_var2d[row_i]\n",
    "        if (np.count_nonzero(row == def_v) == len(row)):\n",
    "            listBadRow.append(row_i)\n",
    "            \n",
    "    nparray_var2d[listBadRow]=nparray_rst[listBadRow]/convFac_ww3\n",
    "    nparray_var2d[:,listBadCol]=nparray_rst[:,listBadCol]/convFac_ww3\n",
    "    \n",
    "    return nparray_var2d\n",
    "\n",
    "def plot_waveIce(dateCICE, dateWW3, repW3, repCI, xG, yG, listV):\n",
    "    \n",
    "    orig_map=plt.cm.get_cmap('Spectral')\n",
    "    reversed_map = orig_map.reversed()\n",
    "    datestrCI=str(dateCICE.year).zfill(4)+\"-\"+str(dateCICE.month).zfill(2)+\"-\"+str(dateCICE.day).zfill(2)+\"-\"+str(dateCICE.hour*3600).zfill(5)\n",
    "    datestrW3=str(dateWW3.year).zfill(4)+\"-\"+str(dateWW3.month).zfill(2)+\"-\"+str(dateWW3.day).zfill(2)+\"-\"+str(dateWW3.hour*3600).zfill(5)\n",
    "    \n",
    "    file_dataW3=repW3+\"/ww3.\"+datestrW3+\".nc\"\n",
    "    file_dataCI=repCI+\"/iceh_01h.\"+datestrCI+\".nc\"\n",
    "        \n",
    "    print(\"File wave : \", file_dataW3)\n",
    "    print(\"File ice : \", file_dataCI)\n",
    "    \n",
    "    dsW3=xr.open_dataset(file_dataW3)\n",
    "    hs_2d=np.nan_to_num(dsW3[['hs']]['hs'].values.squeeze())\n",
    "    dsCI=xr.open_dataset(file_dataCI)\n",
    "    \n",
    "    \n",
    "    #cbar_min=0\n",
    "    #cbar_max=300\n",
    "    #cbarlabels = np.linspace(np.floor(cbar_min), np.ceil(cbar_max), num=5, endpoint=True)\n",
    "    \n",
    "    #Read wave field\n",
    "#     hs_2d=np.genfromtxt(file_hs, dtype=None, skip_header=1)\n",
    "#     hs_rst=np.zeros((len(xG), len(yG)))\n",
    "#     hs_2d=cleanGrdFiles_ww3(hs_2d, hs_rst, defV, convF)\n",
    "    \n",
    "    X,Y = np.meshgrid(xG,yG)\n",
    "    fig, ax = plt.subplots(len(listV),1,figsize=[8,4*len(listV)])\n",
    "    i=0\n",
    "    for v in listV:\n",
    "        var_2d=np.nan_to_num(dsCI[[v]][v].values.squeeze())  \n",
    "        ax[i].set_xlim([2.5, 240])\n",
    "        ax[i].set_ylim([2.5, 240])\n",
    "        ax[i].tick_params(labelsize=14)\n",
    "#         ax[i].set_yticks(np.arange(0.5, 3, 0.5))\n",
    "        ax[i].set_xlabel('x [km]', size=16)\n",
    "        ax[i].set_ylabel('y [km]', size=16)\n",
    "        cont=ax[i].contour(X,Y, hs_2d, colors='black', levels=[0.01, 0.02, 0.04, 0.06, 0.1, 0.14, 0.2])\n",
    "        color=ax[i].contourf(X,Y,var_2d, 50, cmap=reversed_map)\n",
    "        ax[i].clabel(cont, fontsize= 12)\n",
    "        cb=fig.colorbar(color, ax=ax[i])\n",
    "        cb.ax.tick_params(labelsize=14)\n",
    "        \n",
    "        if i == 0:\n",
    "            cb.set_label('Ice Concentration', size=16)\n",
    "    \n",
    "        if i == 1:\n",
    "            cb.set_label('Ice Thickess [m]', size=16)\n",
    "        if i == 2:\n",
    "            cb.set_label('Mean Floe Diameter [m]', size=16)\n",
    "        i=i+1\n",
    "        \n",
    "#    plt.tight_layout()\n",
    "#    plt.subplots_adjust(top=0.97)\n",
    "#    fig.savefig(\"/aos/home/bward/wim/post-proc/case10\"+\"/CI_\"+datestrCI+\"_W3_\"+datestrW3+\"_NobackscatWWVar\", bbbox_to_anchor='tight', dpi=500)\n",
    "#    print(\"------------CI_\"+datestrCI+\"_W3_\"+datestrW3+\" as been plotted---------------------\")\n",
    "\n",
    "def animate(rep_img, exp_name, start, end):\n",
    "    # Create the frames\n",
    "    frames = []\n",
    "    list_imgs = glob.glob(rep_img+'/*.png')\n",
    "    list.sort(list_imgs)\n",
    "    for i in list_imgs:\n",
    "        new_frame = Image.open(i)\n",
    "        frames.append(new_frame)\n",
    " \n",
    "    # Save into a GIF file that loops forever\n",
    "    frames[0].save(rep_img+'/'+start+\"_\"+end+\"_\"+exp_name+'.gif', format='GIF',\n",
    "               append_images=frames[1:],\n",
    "               save_all=True,\n",
    "               duration=3000, loop=0)\n",
    "    \n",
    "def createListTs(ts, nts, sec_init):\n",
    "    list_ts=[]\n",
    "    \n",
    "    for i in range(1,nts+1):\n",
    "        list_ts.append(sec_init+i*ts)\n",
    "            \n",
    "    return list_ts\n",
    "\n",
    "def printDataModel(date, repI, model, index):\n",
    "    datestr=str(date.year).zfill(4)+\"-\"+str(date.month).zfill(2)+\"-\"+str(date.day).zfill(2)+\"-\"+str(date.hour*3600).zfill(5)\n",
    "    \n",
    "    if model == \"CICE\":\n",
    "        listV=['aice', 'hi', 'fsdrad']\n",
    "        file_data=repI+\"/iceh_01h.\"+datestr+\".nc\"\n",
    "        print(\"CICE\")\n",
    "    elif model == \"WW3\":\n",
    "        listV=['ice', 'ic1', 'ic5']\n",
    "        file_data=repI+\"/ww3.\"+datestr+\".nc\"\n",
    "        print(\"WW3\")\n",
    "        \n",
    "    ds=xr.open_dataset(file_data)\n",
    "    \n",
    "    for v in listV:\n",
    "        var_2d=np.nan_to_num(ds[[v]][v].values.squeeze()) \n",
    "        print(var_2d)\n",
    "\n"
   ]
  },
  {
   "cell_type": "markdown",
   "id": "b0b52b8d",
   "metadata": {},
   "source": [
    "# Main : Plot at each time step and animate"
   ]
  },
  {
   "cell_type": "code",
   "execution_count": 49,
   "id": "484af7e5",
   "metadata": {
    "scrolled": true
   },
   "outputs": [
    {
     "name": "stdout",
     "output_type": "stream",
     "text": [
      "Time step 1: 3600\n",
      "File wave :  /aos/home/bward/wim/ww3/model/out/case10/ww3.2005-01-01-00000.nc\n",
      "File ice :  /aos/home/bward/wim/cice/out/case10/history/iceh_01h.2005-01-01-03600.nc\n"
     ]
    },
    {
     "ename": "KeyError",
     "evalue": "'aice'",
     "output_type": "error",
     "traceback": [
      "\u001b[0;31m---------------------------------------------------------------------------\u001b[0m",
      "\u001b[0;31mKeyError\u001b[0m                                  Traceback (most recent call last)",
      "\u001b[0;32m~/miniconda3/envs/wim/lib/python3.8/site-packages/xarray/core/dataset.py\u001b[0m in \u001b[0;36m_copy_listed\u001b[0;34m(self, names)\u001b[0m\n\u001b[1;32m   1362\u001b[0m             \u001b[0;32mtry\u001b[0m\u001b[0;34m:\u001b[0m\u001b[0;34m\u001b[0m\u001b[0;34m\u001b[0m\u001b[0m\n\u001b[0;32m-> 1363\u001b[0;31m                 \u001b[0mvariables\u001b[0m\u001b[0;34m[\u001b[0m\u001b[0mname\u001b[0m\u001b[0;34m]\u001b[0m \u001b[0;34m=\u001b[0m \u001b[0mself\u001b[0m\u001b[0;34m.\u001b[0m\u001b[0m_variables\u001b[0m\u001b[0;34m[\u001b[0m\u001b[0mname\u001b[0m\u001b[0;34m]\u001b[0m\u001b[0;34m\u001b[0m\u001b[0;34m\u001b[0m\u001b[0m\n\u001b[0m\u001b[1;32m   1364\u001b[0m             \u001b[0;32mexcept\u001b[0m \u001b[0mKeyError\u001b[0m\u001b[0;34m:\u001b[0m\u001b[0;34m\u001b[0m\u001b[0;34m\u001b[0m\u001b[0m\n",
      "\u001b[0;31mKeyError\u001b[0m: 'aice'",
      "\nDuring handling of the above exception, another exception occurred:\n",
      "\u001b[0;31mKeyError\u001b[0m                                  Traceback (most recent call last)",
      "\u001b[0;32m/tmp/ipykernel_209825/3149541668.py\u001b[0m in \u001b[0;36m<module>\u001b[0;34m\u001b[0m\n\u001b[1;32m     42\u001b[0m \u001b[0;31m#Call main\u001b[0m\u001b[0;34m\u001b[0m\u001b[0;34m\u001b[0m\u001b[0;34m\u001b[0m\u001b[0m\n\u001b[1;32m     43\u001b[0m \u001b[0;32mif\u001b[0m \u001b[0m__name__\u001b[0m \u001b[0;34m==\u001b[0m \u001b[0;34m\"__main__\"\u001b[0m\u001b[0;34m:\u001b[0m\u001b[0;34m\u001b[0m\u001b[0;34m\u001b[0m\u001b[0m\n\u001b[0;32m---> 44\u001b[0;31m     \u001b[0mmain\u001b[0m\u001b[0;34m(\u001b[0m\u001b[0;34m)\u001b[0m\u001b[0;34m\u001b[0m\u001b[0;34m\u001b[0m\u001b[0m\n\u001b[0m",
      "\u001b[0;32m/tmp/ipykernel_209825/3149541668.py\u001b[0m in \u001b[0;36mmain\u001b[0;34m()\u001b[0m\n\u001b[1;32m     32\u001b[0m         \u001b[0mprint\u001b[0m\u001b[0;34m(\u001b[0m\u001b[0;34m\"Time step \"\u001b[0m\u001b[0;34m+\u001b[0m\u001b[0mstr\u001b[0m\u001b[0;34m(\u001b[0m\u001b[0mi\u001b[0m\u001b[0;34m)\u001b[0m\u001b[0;34m+\u001b[0m\u001b[0;34m\":\"\u001b[0m\u001b[0;34m,\u001b[0m\u001b[0mts\u001b[0m\u001b[0;34m)\u001b[0m\u001b[0;34m\u001b[0m\u001b[0;34m\u001b[0m\u001b[0m\n\u001b[1;32m     33\u001b[0m         \u001b[0;31m#printDataModel(dateCI, REP_IN_CICE, 'CICE', i)\u001b[0m\u001b[0;34m\u001b[0m\u001b[0;34m\u001b[0m\u001b[0;34m\u001b[0m\u001b[0m\n\u001b[0;32m---> 34\u001b[0;31m         \u001b[0mplot_waveIce\u001b[0m\u001b[0;34m(\u001b[0m\u001b[0mdateCI\u001b[0m\u001b[0;34m,\u001b[0m \u001b[0mdateW3\u001b[0m\u001b[0;34m,\u001b[0m \u001b[0mREP_IN\u001b[0m\u001b[0;34m,\u001b[0m \u001b[0mREP_IN_CICE\u001b[0m\u001b[0;34m,\u001b[0m \u001b[0mxgrid\u001b[0m\u001b[0;34m,\u001b[0m \u001b[0mygrid\u001b[0m\u001b[0;34m,\u001b[0m \u001b[0mlist_var\u001b[0m\u001b[0;34m)\u001b[0m \u001b[0;31m#xgrid, ygrid, defValue, txt2ww3)\u001b[0m\u001b[0;34m\u001b[0m\u001b[0;34m\u001b[0m\u001b[0m\n\u001b[0m\u001b[1;32m     35\u001b[0m         \u001b[0mi\u001b[0m\u001b[0;34m=\u001b[0m\u001b[0mi\u001b[0m\u001b[0;34m+\u001b[0m\u001b[0;36m1\u001b[0m\u001b[0;34m\u001b[0m\u001b[0;34m\u001b[0m\u001b[0m\n\u001b[1;32m     36\u001b[0m         \u001b[0;31m#printDataModel(date, REP_IN, 'WW3')\u001b[0m\u001b[0;34m\u001b[0m\u001b[0;34m\u001b[0m\u001b[0;34m\u001b[0m\u001b[0m\n",
      "\u001b[0;32m/tmp/ipykernel_209825/2953070288.py\u001b[0m in \u001b[0;36mplot_waveIce\u001b[0;34m(dateCICE, dateWW3, repW3, repCI, xG, yG, listV)\u001b[0m\n\u001b[1;32m     47\u001b[0m     \u001b[0mi\u001b[0m\u001b[0;34m=\u001b[0m\u001b[0;36m0\u001b[0m\u001b[0;34m\u001b[0m\u001b[0;34m\u001b[0m\u001b[0m\n\u001b[1;32m     48\u001b[0m     \u001b[0;32mfor\u001b[0m \u001b[0mv\u001b[0m \u001b[0;32min\u001b[0m \u001b[0mlistV\u001b[0m\u001b[0;34m:\u001b[0m\u001b[0;34m\u001b[0m\u001b[0;34m\u001b[0m\u001b[0m\n\u001b[0;32m---> 49\u001b[0;31m         \u001b[0mvar_2d\u001b[0m\u001b[0;34m=\u001b[0m\u001b[0mnp\u001b[0m\u001b[0;34m.\u001b[0m\u001b[0mnan_to_num\u001b[0m\u001b[0;34m(\u001b[0m\u001b[0mdsCI\u001b[0m\u001b[0;34m[\u001b[0m\u001b[0;34m[\u001b[0m\u001b[0mv\u001b[0m\u001b[0;34m]\u001b[0m\u001b[0;34m]\u001b[0m\u001b[0;34m[\u001b[0m\u001b[0mv\u001b[0m\u001b[0;34m]\u001b[0m\u001b[0;34m.\u001b[0m\u001b[0mvalues\u001b[0m\u001b[0;34m.\u001b[0m\u001b[0msqueeze\u001b[0m\u001b[0;34m(\u001b[0m\u001b[0;34m)\u001b[0m\u001b[0;34m)\u001b[0m\u001b[0;34m\u001b[0m\u001b[0;34m\u001b[0m\u001b[0m\n\u001b[0m\u001b[1;32m     50\u001b[0m         \u001b[0max\u001b[0m\u001b[0;34m[\u001b[0m\u001b[0mi\u001b[0m\u001b[0;34m]\u001b[0m\u001b[0;34m.\u001b[0m\u001b[0mset_xlim\u001b[0m\u001b[0;34m(\u001b[0m\u001b[0;34m[\u001b[0m\u001b[0;36m2.5\u001b[0m\u001b[0;34m,\u001b[0m \u001b[0;36m240\u001b[0m\u001b[0;34m]\u001b[0m\u001b[0;34m)\u001b[0m\u001b[0;34m\u001b[0m\u001b[0;34m\u001b[0m\u001b[0m\n\u001b[1;32m     51\u001b[0m         \u001b[0max\u001b[0m\u001b[0;34m[\u001b[0m\u001b[0mi\u001b[0m\u001b[0;34m]\u001b[0m\u001b[0;34m.\u001b[0m\u001b[0mset_ylim\u001b[0m\u001b[0;34m(\u001b[0m\u001b[0;34m[\u001b[0m\u001b[0;36m2.5\u001b[0m\u001b[0;34m,\u001b[0m \u001b[0;36m240\u001b[0m\u001b[0;34m]\u001b[0m\u001b[0;34m)\u001b[0m\u001b[0;34m\u001b[0m\u001b[0;34m\u001b[0m\u001b[0m\n",
      "\u001b[0;32m~/miniconda3/envs/wim/lib/python3.8/site-packages/xarray/core/dataset.py\u001b[0m in \u001b[0;36m__getitem__\u001b[0;34m(self, key)\u001b[0m\n\u001b[1;32m   1502\u001b[0m             \u001b[0;32mreturn\u001b[0m \u001b[0mself\u001b[0m\u001b[0;34m.\u001b[0m\u001b[0m_construct_dataarray\u001b[0m\u001b[0;34m(\u001b[0m\u001b[0mkey\u001b[0m\u001b[0;34m)\u001b[0m\u001b[0;34m\u001b[0m\u001b[0;34m\u001b[0m\u001b[0m\n\u001b[1;32m   1503\u001b[0m         \u001b[0;32melse\u001b[0m\u001b[0;34m:\u001b[0m\u001b[0;34m\u001b[0m\u001b[0;34m\u001b[0m\u001b[0m\n\u001b[0;32m-> 1504\u001b[0;31m             \u001b[0;32mreturn\u001b[0m \u001b[0mself\u001b[0m\u001b[0;34m.\u001b[0m\u001b[0m_copy_listed\u001b[0m\u001b[0;34m(\u001b[0m\u001b[0mkey\u001b[0m\u001b[0;34m)\u001b[0m\u001b[0;34m\u001b[0m\u001b[0;34m\u001b[0m\u001b[0m\n\u001b[0m\u001b[1;32m   1505\u001b[0m \u001b[0;34m\u001b[0m\u001b[0m\n\u001b[1;32m   1506\u001b[0m     \u001b[0;32mdef\u001b[0m \u001b[0m__setitem__\u001b[0m\u001b[0;34m(\u001b[0m\u001b[0mself\u001b[0m\u001b[0;34m,\u001b[0m \u001b[0mkey\u001b[0m\u001b[0;34m:\u001b[0m \u001b[0mUnion\u001b[0m\u001b[0;34m[\u001b[0m\u001b[0mHashable\u001b[0m\u001b[0;34m,\u001b[0m \u001b[0mList\u001b[0m\u001b[0;34m[\u001b[0m\u001b[0mHashable\u001b[0m\u001b[0;34m]\u001b[0m\u001b[0;34m,\u001b[0m \u001b[0mMapping\u001b[0m\u001b[0;34m]\u001b[0m\u001b[0;34m,\u001b[0m \u001b[0mvalue\u001b[0m\u001b[0;34m)\u001b[0m \u001b[0;34m->\u001b[0m \u001b[0;32mNone\u001b[0m\u001b[0;34m:\u001b[0m\u001b[0;34m\u001b[0m\u001b[0;34m\u001b[0m\u001b[0m\n",
      "\u001b[0;32m~/miniconda3/envs/wim/lib/python3.8/site-packages/xarray/core/dataset.py\u001b[0m in \u001b[0;36m_copy_listed\u001b[0;34m(self, names)\u001b[0m\n\u001b[1;32m   1363\u001b[0m                 \u001b[0mvariables\u001b[0m\u001b[0;34m[\u001b[0m\u001b[0mname\u001b[0m\u001b[0;34m]\u001b[0m \u001b[0;34m=\u001b[0m \u001b[0mself\u001b[0m\u001b[0;34m.\u001b[0m\u001b[0m_variables\u001b[0m\u001b[0;34m[\u001b[0m\u001b[0mname\u001b[0m\u001b[0;34m]\u001b[0m\u001b[0;34m\u001b[0m\u001b[0;34m\u001b[0m\u001b[0m\n\u001b[1;32m   1364\u001b[0m             \u001b[0;32mexcept\u001b[0m \u001b[0mKeyError\u001b[0m\u001b[0;34m:\u001b[0m\u001b[0;34m\u001b[0m\u001b[0;34m\u001b[0m\u001b[0m\n\u001b[0;32m-> 1365\u001b[0;31m                 ref_name, var_name, var = _get_virtual_variable(\n\u001b[0m\u001b[1;32m   1366\u001b[0m                     \u001b[0mself\u001b[0m\u001b[0;34m.\u001b[0m\u001b[0m_variables\u001b[0m\u001b[0;34m,\u001b[0m \u001b[0mname\u001b[0m\u001b[0;34m,\u001b[0m \u001b[0mself\u001b[0m\u001b[0;34m.\u001b[0m\u001b[0m_level_coords\u001b[0m\u001b[0;34m,\u001b[0m \u001b[0mself\u001b[0m\u001b[0;34m.\u001b[0m\u001b[0mdims\u001b[0m\u001b[0;34m\u001b[0m\u001b[0;34m\u001b[0m\u001b[0m\n\u001b[1;32m   1367\u001b[0m                 )\n",
      "\u001b[0;32m~/miniconda3/envs/wim/lib/python3.8/site-packages/xarray/core/dataset.py\u001b[0m in \u001b[0;36m_get_virtual_variable\u001b[0;34m(variables, key, level_vars, dim_sizes)\u001b[0m\n\u001b[1;32m    171\u001b[0m         \u001b[0mref_var\u001b[0m \u001b[0;34m=\u001b[0m \u001b[0mdim_var\u001b[0m\u001b[0;34m.\u001b[0m\u001b[0mto_index_variable\u001b[0m\u001b[0;34m(\u001b[0m\u001b[0;34m)\u001b[0m\u001b[0;34m.\u001b[0m\u001b[0mget_level_variable\u001b[0m\u001b[0;34m(\u001b[0m\u001b[0mref_name\u001b[0m\u001b[0;34m)\u001b[0m\u001b[0;34m\u001b[0m\u001b[0;34m\u001b[0m\u001b[0m\n\u001b[1;32m    172\u001b[0m     \u001b[0;32melse\u001b[0m\u001b[0;34m:\u001b[0m\u001b[0;34m\u001b[0m\u001b[0;34m\u001b[0m\u001b[0m\n\u001b[0;32m--> 173\u001b[0;31m         \u001b[0mref_var\u001b[0m \u001b[0;34m=\u001b[0m \u001b[0mvariables\u001b[0m\u001b[0;34m[\u001b[0m\u001b[0mref_name\u001b[0m\u001b[0;34m]\u001b[0m\u001b[0;34m\u001b[0m\u001b[0;34m\u001b[0m\u001b[0m\n\u001b[0m\u001b[1;32m    174\u001b[0m \u001b[0;34m\u001b[0m\u001b[0m\n\u001b[1;32m    175\u001b[0m     \u001b[0;32mif\u001b[0m \u001b[0mvar_name\u001b[0m \u001b[0;32mis\u001b[0m \u001b[0;32mNone\u001b[0m\u001b[0;34m:\u001b[0m\u001b[0;34m\u001b[0m\u001b[0;34m\u001b[0m\u001b[0m\n",
      "\u001b[0;31mKeyError\u001b[0m: 'aice'"
     ]
    },
    {
     "data": {
      "image/png": "[encoded data removed]",
      "text/plain": [
       "<Figure size 576x864 with 3 Axes>"
      ]
     },
     "metadata": {
      "needs_background": "light"
     },
     "output_type": "display_data"
    }
   ],
   "source": [
    "def main():\n",
    "    #Define variables\n",
    "    exp=\"case10\"\n",
    "    list_var=['aice', 'hi', 'fsdrad'] #,'ic1','ic5'] #Ice concentration, Ice thickness, Mean floe size diameter\n",
    "    timeStep=3600\n",
    "    nb_ts=3\n",
    "    start_y=2005\n",
    "    start_d=1\n",
    "    start_m=1\n",
    "    start_s=0\n",
    "    \n",
    "    start_day=datetime(start_y, start_m, start_d)+timedelta(seconds=start_s)    \n",
    "    list_ts=createListTs(timeStep,nb_ts,start_s)\n",
    "    REP_IN='/aos/home/bward/wim/ww3/model/out/'+exp\n",
    "    REP_IN_CICE='/aos/home/bward/wim/cice/out/'+exp+'/history'\n",
    "    REP_OUT='/aos/home/bward/wim/post_proc/'+exp\n",
    "\n",
    "    \n",
    "    grdRes=2.5\n",
    "    grdMax=247.5\n",
    "    grdMin=-2.5\n",
    "    defValue=-999\n",
    "    txt2ww3=0.001\n",
    "    \n",
    "    xgrid=np.arange(grdMin, grdMax, grdRes)\n",
    "    ygrid=np.arange(grdMin, grdMax, grdRes)\n",
    "    i=1            \n",
    "    #Plot at each timestep\n",
    "    for ts in list_ts:\n",
    "        dateW3=start_day+timedelta(seconds=ts)-timedelta(seconds=timeStep)\n",
    "        dateCI=start_day+timedelta(seconds=ts)\n",
    "        print(\"Time step \"+str(i)+\":\",ts)\n",
    "        #printDataModel(dateCI, REP_IN_CICE, 'CICE', i)\n",
    "        plot_waveIce(dateCI, dateW3, REP_IN, REP_IN_CICE, xgrid, ygrid, list_var) #xgrid, ygrid, defValue, txt2ww3)\n",
    "        i=i+1\n",
    "        #printDataModel(date, REP_IN, 'WW3')\n",
    "        #fig, ax = plt.subplots(3,1,figsize=[8,12])\n",
    "        #ani=animation.FuncAnimation(fig, plot_waveIce, list_ts)\n",
    "    #Animate\n",
    "    #animate(REP_PP, exp, list_ts[0], list_ts[len(list_ts)-1])\n",
    "\n",
    "#Call main\n",
    "if __name__ == \"__main__\":\n",
    "    main()"
   ]
  },
  {
   "cell_type": "code",
   "execution_count": null,
   "id": "1c6e66a0",
   "metadata": {},
   "outputs": [],
   "source": []
  },
  {
   "cell_type": "code",
   "execution_count": null,
   "id": "91793fa8",
   "metadata": {},
   "outputs": [],
   "source": []
  }
 ],
 "metadata": {
  "kernelspec": {
   "display_name": "Python 3 (ipykernel)",
   "language": "python",
   "name": "python3"
  },
  "language_info": {
   "codemirror_mode": {
    "name": "ipython",
    "version": 3
   },
   "file_extension": ".py",
   "mimetype": "text/x-python",
   "name": "python",
   "nbconvert_exporter": "python",
   "pygments_lexer": "ipython3",
   "version": "3.8.12"
  }
 },
 "nbformat": 4,
 "nbformat_minor": 5
}
